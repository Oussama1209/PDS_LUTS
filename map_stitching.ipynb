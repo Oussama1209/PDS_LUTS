{
 "cells": [
  {
   "cell_type": "markdown",
   "metadata": {},
   "source": [
    "## Frame selection"
   ]
  },
  {
   "cell_type": "code",
   "execution_count": null,
   "metadata": {},
   "outputs": [],
   "source": [
    "import pandas as pd\n",
    "from utils.helpers import parse_srt_to_dataframe, extract_frames_with_distance, process_inpainting\n",
    "\n",
    "# Define the path to the SRT file, video file, vehicle detection folder, and the output PKL file\n",
    "srt_file = 'Dataset/DJI_0763.SRT'\n",
    "output_df_pkl = 'Dataset/DJI_0763_data.pkl'\n",
    "video_file = 'Dataset/DJI_0763.MOV'\n",
    "vehicle_det_folder = 'Dataset/DJI_0763_detection'\n",
    "\n",
    "# Parse the SRT file and save to PICKLE file\n",
    "gps_df = parse_srt_to_dataframe(srt_file)\n",
    "gps_df.loc[:, 'FrameCnt'] = gps_df['FrameCnt'] -1\n",
    "gps_df.to_pickle(output_df_pkl)\n",
    "\n",
    "# Extract frames by distance threshold\n",
    "extract_frames_with_distance(video_file, 'images_distance', output_df_pkl, distance_threshold=60, blur_threshold=200.0)\n",
    "\n",
    "# Inpaint the extracted frames\n",
    "process_inpainting('images_distance', vehicle_det_folder, 'images_inpainted')\n"
   ]
  },
  {
   "cell_type": "markdown",
   "metadata": {},
   "source": [
    "## Generating the Map"
   ]
  },
  {
   "cell_type": "code",
   "execution_count": null,
   "metadata": {},
   "outputs": [],
   "source": [
    "from utils.stitching_pipeline import run_panorama_pipeline\n",
    "from utils.helpers import show_panorama\n",
    "import cv2 as cv\n",
    "import matplotlib.pyplot as plt\n",
    "import torch\n",
    "import os\n",
    "import pandas as pd\n",
    "\n",
    "image_folder = 'images_distance'\n",
    "\n",
    "combined_image, image_corners_df = run_panorama_pipeline(image_folder)\n",
    "\n",
    "show_panorama(combined_image, image_corners_df)\n",
    "\n",
    "# Save the df to a PICKLE file\n",
    "image_corners_df.to_pickle('results/image_corners.pkl')\n",
    "\n",
    "torch.cuda.empty_cache()\n"
   ]
  },
  {
   "cell_type": "code",
   "execution_count": null,
   "metadata": {},
   "outputs": [],
   "source": []
  }
 ],
 "metadata": {
  "kernelspec": {
   "display_name": "luts",
   "language": "python",
   "name": "python3"
  },
  "language_info": {
   "codemirror_mode": {
    "name": "ipython",
    "version": 3
   },
   "file_extension": ".py",
   "mimetype": "text/x-python",
   "name": "python",
   "nbconvert_exporter": "python",
   "pygments_lexer": "ipython3",
   "version": "3.10.14"
  }
 },
 "nbformat": 4,
 "nbformat_minor": 2
}
